{
 "cells": [
  {
   "cell_type": "code",
   "execution_count": 1,
   "metadata": {},
   "outputs": [
    {
     "name": "stderr",
     "output_type": "stream",
     "text": [
      "C:\\myAnaconda\\lib\\site-packages\\tensorflow\\python\\framework\\dtypes.py:516: FutureWarning: Passing (type, 1) or '1type' as a synonym of type is deprecated; in a future version of numpy, it will be understood as (type, (1,)) / '(1,)type'.\n",
      "  _np_qint8 = np.dtype([(\"qint8\", np.int8, 1)])\n",
      "C:\\myAnaconda\\lib\\site-packages\\tensorflow\\python\\framework\\dtypes.py:517: FutureWarning: Passing (type, 1) or '1type' as a synonym of type is deprecated; in a future version of numpy, it will be understood as (type, (1,)) / '(1,)type'.\n",
      "  _np_quint8 = np.dtype([(\"quint8\", np.uint8, 1)])\n",
      "C:\\myAnaconda\\lib\\site-packages\\tensorflow\\python\\framework\\dtypes.py:518: FutureWarning: Passing (type, 1) or '1type' as a synonym of type is deprecated; in a future version of numpy, it will be understood as (type, (1,)) / '(1,)type'.\n",
      "  _np_qint16 = np.dtype([(\"qint16\", np.int16, 1)])\n",
      "C:\\myAnaconda\\lib\\site-packages\\tensorflow\\python\\framework\\dtypes.py:519: FutureWarning: Passing (type, 1) or '1type' as a synonym of type is deprecated; in a future version of numpy, it will be understood as (type, (1,)) / '(1,)type'.\n",
      "  _np_quint16 = np.dtype([(\"quint16\", np.uint16, 1)])\n",
      "C:\\myAnaconda\\lib\\site-packages\\tensorflow\\python\\framework\\dtypes.py:520: FutureWarning: Passing (type, 1) or '1type' as a synonym of type is deprecated; in a future version of numpy, it will be understood as (type, (1,)) / '(1,)type'.\n",
      "  _np_qint32 = np.dtype([(\"qint32\", np.int32, 1)])\n",
      "C:\\myAnaconda\\lib\\site-packages\\tensorflow\\python\\framework\\dtypes.py:525: FutureWarning: Passing (type, 1) or '1type' as a synonym of type is deprecated; in a future version of numpy, it will be understood as (type, (1,)) / '(1,)type'.\n",
      "  np_resource = np.dtype([(\"resource\", np.ubyte, 1)])\n",
      "C:\\myAnaconda\\lib\\site-packages\\tensorboard\\compat\\tensorflow_stub\\dtypes.py:541: FutureWarning: Passing (type, 1) or '1type' as a synonym of type is deprecated; in a future version of numpy, it will be understood as (type, (1,)) / '(1,)type'.\n",
      "  _np_qint8 = np.dtype([(\"qint8\", np.int8, 1)])\n",
      "C:\\myAnaconda\\lib\\site-packages\\tensorboard\\compat\\tensorflow_stub\\dtypes.py:542: FutureWarning: Passing (type, 1) or '1type' as a synonym of type is deprecated; in a future version of numpy, it will be understood as (type, (1,)) / '(1,)type'.\n",
      "  _np_quint8 = np.dtype([(\"quint8\", np.uint8, 1)])\n",
      "C:\\myAnaconda\\lib\\site-packages\\tensorboard\\compat\\tensorflow_stub\\dtypes.py:543: FutureWarning: Passing (type, 1) or '1type' as a synonym of type is deprecated; in a future version of numpy, it will be understood as (type, (1,)) / '(1,)type'.\n",
      "  _np_qint16 = np.dtype([(\"qint16\", np.int16, 1)])\n",
      "C:\\myAnaconda\\lib\\site-packages\\tensorboard\\compat\\tensorflow_stub\\dtypes.py:544: FutureWarning: Passing (type, 1) or '1type' as a synonym of type is deprecated; in a future version of numpy, it will be understood as (type, (1,)) / '(1,)type'.\n",
      "  _np_quint16 = np.dtype([(\"quint16\", np.uint16, 1)])\n",
      "C:\\myAnaconda\\lib\\site-packages\\tensorboard\\compat\\tensorflow_stub\\dtypes.py:545: FutureWarning: Passing (type, 1) or '1type' as a synonym of type is deprecated; in a future version of numpy, it will be understood as (type, (1,)) / '(1,)type'.\n",
      "  _np_qint32 = np.dtype([(\"qint32\", np.int32, 1)])\n",
      "C:\\myAnaconda\\lib\\site-packages\\tensorboard\\compat\\tensorflow_stub\\dtypes.py:550: FutureWarning: Passing (type, 1) or '1type' as a synonym of type is deprecated; in a future version of numpy, it will be understood as (type, (1,)) / '(1,)type'.\n",
      "  np_resource = np.dtype([(\"resource\", np.ubyte, 1)])\n",
      "Using TensorFlow backend.\n"
     ]
    }
   ],
   "source": [
    "import numpy as np\n",
    "import matplotlib.pyplot as plt\n",
    "import pandas as pd\n",
    "import tensorflow as tf\n",
    "from sklearn.model_selection import train_test_split\n",
    "import keras\n",
    "from keras.models import Sequential\n",
    "from keras.layers import Dense, Activation, Dropout, Convolution2D, Flatten, MaxPooling2D, Reshape, InputLayer\n",
    "from keras.utils import to_categorical\n",
    "from keras.layers import Conv2D, MaxPooling2D"
   ]
  },
  {
   "cell_type": "code",
   "execution_count": 3,
   "metadata": {},
   "outputs": [],
   "source": [
    "train= pd.read_csv(\"fashion-mnist_train.csv\")"
   ]
  },
  {
   "cell_type": "code",
   "execution_count": 4,
   "metadata": {},
   "outputs": [],
   "source": [
    "x = np.array(train.iloc[:,1:])\n",
    "y = to_categorical(np.array(train.iloc[:,0]))\n",
    "xtrain, xtest, ytrain, ytest = train_test_split(x, y, test_size = 0.3, random_state = 1)"
   ]
  },
  {
   "cell_type": "code",
   "execution_count": 5,
   "metadata": {},
   "outputs": [],
   "source": [
    "test= pd.read_csv(\"fashion-mnist_test.csv\")"
   ]
  },
  {
   "cell_type": "code",
   "execution_count": 7,
   "metadata": {},
   "outputs": [],
   "source": [
    "x_test = np.array(test.iloc[:, 1:])\n",
    "y_test = to_categorical(np.array(test.iloc[:, 0]))"
   ]
  },
  {
   "cell_type": "code",
   "execution_count": 9,
   "metadata": {},
   "outputs": [],
   "source": [
    "x = xtrain.astype('float32')\n",
    "x_test = x_test.astype('float32')\n",
    "xtest = xtest.astype('float32')"
   ]
  },
  {
   "cell_type": "code",
   "execution_count": 11,
   "metadata": {},
   "outputs": [],
   "source": [
    "x /= 255.0\n",
    "x_test /= 255.0\n",
    "xtest /= 255.0"
   ]
  },
  {
   "cell_type": "code",
   "execution_count": 12,
   "metadata": {},
   "outputs": [],
   "source": [
    "myModel = Sequential()"
   ]
  },
  {
   "cell_type": "code",
   "execution_count": 13,
   "metadata": {},
   "outputs": [
    {
     "name": "stderr",
     "output_type": "stream",
     "text": [
      "C:\\myAnaconda\\lib\\site-packages\\ipykernel_launcher.py:1: UserWarning: Update your `Dense` call to the Keras 2 API: `Dense(input_dim=784, activation=\"relu\", units=500)`\n",
      "  \"\"\"Entry point for launching an IPython kernel.\n",
      "C:\\myAnaconda\\lib\\site-packages\\ipykernel_launcher.py:3: UserWarning: Update your `Dense` call to the Keras 2 API: `Dense(input_dim=500, activation=\"relu\", units=500)`\n",
      "  This is separate from the ipykernel package so we can avoid doing imports until\n",
      "C:\\myAnaconda\\lib\\site-packages\\ipykernel_launcher.py:5: UserWarning: Update your `Dense` call to the Keras 2 API: `Dense(input_dim=500, activation=\"relu\", units=500)`\n",
      "  \"\"\"\n",
      "C:\\myAnaconda\\lib\\site-packages\\ipykernel_launcher.py:7: UserWarning: Update your `Dense` call to the Keras 2 API: `Dense(input_dim=500, activation=\"relu\", units=500)`\n",
      "  import sys\n",
      "C:\\myAnaconda\\lib\\site-packages\\ipykernel_launcher.py:9: UserWarning: Update your `Dense` call to the Keras 2 API: `Dense(input_dim=500, activation=\"relu\", units=500)`\n",
      "  if __name__ == '__main__':\n",
      "C:\\myAnaconda\\lib\\site-packages\\ipykernel_launcher.py:11: UserWarning: Update your `Dense` call to the Keras 2 API: `Dense(input_dim=500, activation=\"relu\", units=500)`\n",
      "  # This is added back by InteractiveShellApp.init_path()\n",
      "C:\\myAnaconda\\lib\\site-packages\\ipykernel_launcher.py:13: UserWarning: Update your `Dense` call to the Keras 2 API: `Dense(input_dim=500, activation=\"relu\", units=500)`\n",
      "  del sys.path[0]\n",
      "C:\\myAnaconda\\lib\\site-packages\\ipykernel_launcher.py:15: UserWarning: Update your `Dense` call to the Keras 2 API: `Dense(input_dim=500, activation=\"relu\", units=500)`\n",
      "  from ipykernel import kernelapp as app\n",
      "C:\\myAnaconda\\lib\\site-packages\\ipykernel_launcher.py:17: UserWarning: Update your `Dense` call to the Keras 2 API: `Dense(input_dim=500, activation=\"relu\", units=250)`\n",
      "C:\\myAnaconda\\lib\\site-packages\\ipykernel_launcher.py:19: UserWarning: Update your `Dense` call to the Keras 2 API: `Dense(input_dim=250, activation=\"relu\", units=250)`\n",
      "C:\\myAnaconda\\lib\\site-packages\\ipykernel_launcher.py:21: UserWarning: Update your `Dense` call to the Keras 2 API: `Dense(input_dim=250, activation=\"relu\", units=250)`\n",
      "C:\\myAnaconda\\lib\\site-packages\\ipykernel_launcher.py:23: UserWarning: Update your `Dense` call to the Keras 2 API: `Dense(input_dim=250, activation=\"relu\", units=100)`\n",
      "C:\\myAnaconda\\lib\\site-packages\\ipykernel_launcher.py:25: UserWarning: Update your `Dense` call to the Keras 2 API: `Dense(input_dim=100, activation=\"softmax\", units=10)`\n"
     ]
    }
   ],
   "source": [
    "myModel.add(Dense(input_dim = 784, output_dim = 500, activation='relu'))\n",
    "myModel.add(Dropout(0.25))\n",
    "myModel.add(Dense(input_dim = 500, output_dim = 500, activation='relu'))\n",
    "myModel.add(Dropout(0.25))\n",
    "myModel.add(Dense(input_dim = 500, output_dim = 500, activation='relu'))\n",
    "myModel.add(Dropout(0.25))\n",
    "myModel.add(Dense(input_dim = 500, output_dim = 500, activation='relu'))\n",
    "myModel.add(Dropout(0.25))\n",
    "myModel.add(Dense(input_dim = 500, output_dim = 500, activation='relu'))\n",
    "myModel.add(Dropout(0.25))\n",
    "myModel.add(Dense(input_dim = 500, output_dim = 500, activation='relu'))\n",
    "myModel.add(Dropout(0.25))\n",
    "myModel.add(Dense(input_dim = 500, output_dim = 500, activation='relu'))\n",
    "myModel.add(Dropout(0.25))\n",
    "myModel.add(Dense(input_dim = 500, output_dim = 500, activation='relu'))\n",
    "myModel.add(Dropout(0.25))\n",
    "myModel.add(Dense(input_dim = 500, output_dim = 250, activation='relu'))\n",
    "myModel.add(Dropout(0.25))\n",
    "myModel.add(Dense(input_dim = 250 , output_dim = 250, activation='relu'))\n",
    "myModel.add(Dropout(0.25))\n",
    "myModel.add(Dense(input_dim = 250, output_dim = 250, activation='relu'))\n",
    "myModel.add(Dropout(0.25))\n",
    "myModel.add(Dense(input_dim = 250, output_dim = 100, activation='relu'))\n",
    "myModel.add(Dropout(0.25))\n",
    "myModel.add(Dense(input_dim = 100, output_dim = 10, activation='softmax'))"
   ]
  },
  {
   "cell_type": "code",
   "execution_count": 14,
   "metadata": {},
   "outputs": [],
   "source": [
    "myModel.compile(loss=keras.losses.categorical_crossentropy, optimizer=keras.optimizers.Adam(), metrics=['accuracy'])"
   ]
  },
  {
   "cell_type": "code",
   "execution_count": 15,
   "metadata": {},
   "outputs": [
    {
     "name": "stdout",
     "output_type": "stream",
     "text": [
      "WARNING:tensorflow:From C:\\myAnaconda\\lib\\site-packages\\keras\\backend\\tensorflow_backend.py:422: The name tf.global_variables is deprecated. Please use tf.compat.v1.global_variables instead.\n",
      "\n",
      "Train on 42000 samples, validate on 18000 samples\n",
      "Epoch 1/15\n",
      "42000/42000 [==============================] - 23s 555us/step - loss: 2.4583 - accuracy: 0.1421 - val_loss: 2.3130 - val_accuracy: 0.1004\n",
      "Epoch 2/15\n",
      "42000/42000 [==============================] - 21s 494us/step - loss: 1.7318 - accuracy: 0.2706 - val_loss: 4.3757 - val_accuracy: 0.0961\n",
      "Epoch 3/15\n",
      "42000/42000 [==============================] - 23s 556us/step - loss: 1.1050 - accuracy: 0.5063 - val_loss: 6.1080 - val_accuracy: 0.0961\n",
      "Epoch 4/15\n",
      "42000/42000 [==============================] - 20s 479us/step - loss: 0.8787 - accuracy: 0.6099 - val_loss: 6.0652 - val_accuracy: 0.1004\n",
      "Epoch 5/15\n",
      "42000/42000 [==============================] - 21s 503us/step - loss: 0.7955 - accuracy: 0.6531 - val_loss: 5.9275 - val_accuracy: 0.1004\n",
      "Epoch 6/15\n",
      "42000/42000 [==============================] - 24s 570us/step - loss: 0.7085 - accuracy: 0.7136 - val_loss: 5.3158 - val_accuracy: 0.1004\n",
      "Epoch 7/15\n",
      "42000/42000 [==============================] - 22s 521us/step - loss: 0.6605 - accuracy: 0.7279 - val_loss: 4.1678 - val_accuracy: 0.1004\n",
      "Epoch 8/15\n",
      "42000/42000 [==============================] - 20s 468us/step - loss: 0.6356 - accuracy: 0.7350 - val_loss: 3.2380 - val_accuracy: 0.1004\n",
      "Epoch 9/15\n",
      "42000/42000 [==============================] - 22s 524us/step - loss: 0.6179 - accuracy: 0.7450 - val_loss: 2.7029 - val_accuracy: 0.1037\n",
      "Epoch 10/15\n",
      "42000/42000 [==============================] - 21s 490us/step - loss: 0.6060 - accuracy: 0.7480 - val_loss: 2.4943 - val_accuracy: 0.1102\n",
      "Epoch 11/15\n",
      "42000/42000 [==============================] - 21s 503us/step - loss: 0.5902 - accuracy: 0.7559 - val_loss: 2.6180 - val_accuracy: 0.1042\n",
      "Epoch 12/15\n",
      "42000/42000 [==============================] - 23s 545us/step - loss: 0.5821 - accuracy: 0.7624 - val_loss: 2.5140 - val_accuracy: 0.1151\n",
      "Epoch 13/15\n",
      "42000/42000 [==============================] - 21s 502us/step - loss: 0.5788 - accuracy: 0.7670 - val_loss: 2.6555 - val_accuracy: 0.1067\n",
      "Epoch 14/15\n",
      "42000/42000 [==============================] - 20s 468us/step - loss: 0.5613 - accuracy: 0.7719 - val_loss: 2.4570 - val_accuracy: 0.1289\n",
      "Epoch 15/15\n",
      "42000/42000 [==============================] - 22s 533us/step - loss: 0.5522 - accuracy: 0.7779 - val_loss: 2.6879 - val_accuracy: 0.1364\n"
     ]
    },
    {
     "data": {
      "text/plain": [
       "<keras.callbacks.callbacks.History at 0x1d217e5b348>"
      ]
     },
     "execution_count": 15,
     "metadata": {},
     "output_type": "execute_result"
    }
   ],
   "source": [
    "myModel.fit(xtrain, ytrain, epochs = 15, batch_size = 256, validation_data=(xtest, ytest))"
   ]
  },
  {
   "cell_type": "code",
   "execution_count": null,
   "metadata": {},
   "outputs": [],
   "source": []
  },
  {
   "cell_type": "code",
   "execution_count": null,
   "metadata": {},
   "outputs": [],
   "source": []
  },
  {
   "cell_type": "code",
   "execution_count": null,
   "metadata": {},
   "outputs": [],
   "source": []
  },
  {
   "cell_type": "code",
   "execution_count": 17,
   "metadata": {},
   "outputs": [],
   "source": [
    "xtrain = xtrain.reshape(xtrain.shape[0], 28, 28, 1)\n",
    "x_test = x_test.reshape(x_test.shape[0], 28, 28, 1)\n",
    "xtest = xtest.reshape(xtest.shape[0], 28, 28, 1)"
   ]
  },
  {
   "cell_type": "code",
   "execution_count": 18,
   "metadata": {},
   "outputs": [],
   "source": [
    "myModel2 = Sequential()"
   ]
  },
  {
   "cell_type": "code",
   "execution_count": 19,
   "metadata": {},
   "outputs": [
    {
     "name": "stdout",
     "output_type": "stream",
     "text": [
      "WARNING:tensorflow:From C:\\myAnaconda\\lib\\site-packages\\keras\\backend\\tensorflow_backend.py:4070: The name tf.nn.max_pool is deprecated. Please use tf.nn.max_pool2d instead.\n",
      "\n"
     ]
    }
   ],
   "source": [
    "myModel2.add(Conv2D(32, kernel_size=(5, 5), activation='relu', kernel_initializer='he_normal', input_shape = (28,28,1)))\n",
    "myModel2.add(MaxPooling2D((2, 2)))\n",
    "myModel2.add(Dropout(0.25))\n",
    "myModel2.add(Conv2D(64, (3, 3), activation='relu'))\n",
    "myModel2.add(MaxPooling2D(pool_size=(2, 2)))\n",
    "myModel2.add(Dropout(0.25))\n",
    "myModel2.add(Conv2D(128, (3, 3), activation='relu'))\n",
    "myModel2.add(Dropout(0.4))\n",
    "myModel2.add(Flatten())\n",
    "myModel2.add(Dense(128, activation='relu'))\n",
    "myModel2.add(Dropout(0.3))\n",
    "myModel2.add(Dense(10, activation='softmax'))"
   ]
  },
  {
   "cell_type": "code",
   "execution_count": 20,
   "metadata": {},
   "outputs": [],
   "source": [
    "myModel2.compile(loss=keras.losses.categorical_crossentropy,optimizer=keras.optimizers.Adam(),metrics=['accuracy'])"
   ]
  },
  {
   "cell_type": "code",
   "execution_count": 21,
   "metadata": {},
   "outputs": [
    {
     "name": "stdout",
     "output_type": "stream",
     "text": [
      "Train on 42000 samples, validate on 18000 samples\n",
      "Epoch 1/15\n",
      "42000/42000 [==============================] - 34s 802us/step - loss: 6.1274 - accuracy: 0.4053 - val_loss: 2.2964 - val_accuracy: 0.1004\n",
      "Epoch 2/15\n",
      "42000/42000 [==============================] - 34s 812us/step - loss: 1.0603 - accuracy: 0.6198 - val_loss: 2.2856 - val_accuracy: 0.1003- ETA: 5s - ETA: 1s - loss: 1.0\n",
      "Epoch 3/15\n",
      "42000/42000 [==============================] - 36s 867us/step - loss: 0.8493 - accuracy: 0.6788 - val_loss: 2.2737 - val_accuracy: 0.1115\n",
      "Epoch 4/15\n",
      "42000/42000 [==============================] - 36s 848us/step - loss: 0.7675 - accuracy: 0.7128 - val_loss: 2.2623 - val_accuracy: 0.1034\n",
      "Epoch 5/15\n",
      "42000/42000 [==============================] - 34s 806us/step - loss: 0.7197 - accuracy: 0.7293 - val_loss: 2.2564 - val_accuracy: 0.1086\n",
      "Epoch 6/15\n",
      "42000/42000 [==============================] - 31s 740us/step - loss: 0.6691 - accuracy: 0.7439 - val_loss: 2.2515 - val_accuracy: 0.1077\n",
      "Epoch 7/15\n",
      "42000/42000 [==============================] - 34s 812us/step - loss: 0.6299 - accuracy: 0.7600 - val_loss: 2.2359 - val_accuracy: 0.1291\n",
      "Epoch 8/15\n",
      "42000/42000 [==============================] - 36s 847us/step - loss: 0.6124 - accuracy: 0.7652 - val_loss: 2.2335 - val_accuracy: 0.1197\n",
      "Epoch 9/15\n",
      "42000/42000 [==============================] - 33s 795us/step - loss: 0.5843 - accuracy: 0.7776 - val_loss: 2.2222 - val_accuracy: 0.1258\n",
      "Epoch 10/15\n",
      "42000/42000 [==============================] - 33s 794us/step - loss: 0.5666 - accuracy: 0.7831 - val_loss: 2.2259 - val_accuracy: 0.1321\n",
      "Epoch 11/15\n",
      "42000/42000 [==============================] - 34s 798us/step - loss: 0.5498 - accuracy: 0.7938 - val_loss: 2.2197 - val_accuracy: 0.1326\n",
      "Epoch 12/15\n",
      "42000/42000 [==============================] - 33s 784us/step - loss: 0.5307 - accuracy: 0.8010 - val_loss: 2.2211 - val_accuracy: 0.1494\n",
      "Epoch 13/15\n",
      "42000/42000 [==============================] - 31s 749us/step - loss: 0.5234 - accuracy: 0.8049 - val_loss: 2.2204 - val_accuracy: 0.1332\n",
      "Epoch 14/15\n",
      "42000/42000 [==============================] - 32s 768us/step - loss: 0.5053 - accuracy: 0.8126 - val_loss: 2.1976 - val_accuracy: 0.1526\n",
      "Epoch 15/15\n",
      "42000/42000 [==============================] - 32s 763us/step - loss: 0.4979 - accuracy: 0.8163 - val_loss: 2.2033 - val_accuracy: 0.1037\n"
     ]
    },
    {
     "data": {
      "text/plain": [
       "<keras.callbacks.callbacks.History at 0x1d219bb4f88>"
      ]
     },
     "execution_count": 21,
     "metadata": {},
     "output_type": "execute_result"
    }
   ],
   "source": [
    "myModel2.fit(xtrain, ytrain, epochs = 15, batch_size = 256, validation_data=(xtest, ytest))"
   ]
  },
  {
   "cell_type": "code",
   "execution_count": null,
   "metadata": {},
   "outputs": [],
   "source": []
  },
  {
   "cell_type": "code",
   "execution_count": null,
   "metadata": {},
   "outputs": [],
   "source": []
  },
  {
   "cell_type": "code",
   "execution_count": null,
   "metadata": {},
   "outputs": [],
   "source": []
  }
 ],
 "metadata": {
  "kernelspec": {
   "display_name": "Python 3",
   "language": "python",
   "name": "python3"
  },
  "language_info": {
   "codemirror_mode": {
    "name": "ipython",
    "version": 3
   },
   "file_extension": ".py",
   "mimetype": "text/x-python",
   "name": "python",
   "nbconvert_exporter": "python",
   "pygments_lexer": "ipython3",
   "version": "3.7.6"
  }
 },
 "nbformat": 4,
 "nbformat_minor": 4
}
