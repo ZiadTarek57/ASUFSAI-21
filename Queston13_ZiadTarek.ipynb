{
 "cells": [
  {
   "cell_type": "code",
   "execution_count": 15,
   "metadata": {},
   "outputs": [],
   "source": [
    "import numpy\n",
    "from heapq import *"
   ]
  },
  {
   "cell_type": "code",
   "execution_count": 16,
   "metadata": {},
   "outputs": [],
   "source": [
    "def hFunc(x,y):   \n",
    "    return (y[0] - x[0]) ** 2 + (y[1] - x[1]) ** 2"
   ]
  },
  {
   "cell_type": "code",
   "execution_count": 22,
   "metadata": {},
   "outputs": [],
   "source": [
    "def Astar(array, start, goal):\n",
    "    ns = [(0,1),(0,-1),(1,0),(-1,0),(1,1),(1,-1),(-1,1),(-1,-1)]\n",
    "    closed= set()\n",
    "    comingfrom={}\n",
    "    g = {start:0}\n",
    "    f = {start:hFunc(start, goal)}\n",
    "    h = []  \n",
    "    heappush(h, (f[start], start))\n",
    "    while h:\n",
    "        current = heappop(h)[1]\n",
    "        if current == goal:\n",
    "            x = []\n",
    "            while current in comingfrom:\n",
    "                x.append(current)\n",
    "                current = comingfrom[current]\n",
    "            return x\n",
    "        closed.add(current)\n",
    "        for i, j in ns:\n",
    "            n = current[0] + i, current[1] + j     \n",
    "            g2 = g[current]+hFunc(current, n)\n",
    "            if 0 <= n[0] < array.shape[0]:  \n",
    "                if 0 <= n[1] < array.shape[1]:  \n",
    "                    if array[n[0]][n[1]] == 1: \n",
    "                        continue\n",
    "                else:\n",
    "                    continue\n",
    "            else:\n",
    "                continue         \n",
    "            if n in closed and g2 >= g.get(n, 0):\n",
    "                continue\n",
    "            if  g2 < g.get(n, 0) or n not in [i[1]for i in h]:\n",
    "                comingfrom[n] = current   \n",
    "                g[n] = g2     \n",
    "                f[n] = g2 + hFunc(n, goal)   \n",
    "                heappush(h, (f[n], n)) \n",
    "    return False"
   ]
  },
  {
   "cell_type": "code",
   "execution_count": 23,
   "metadata": {},
   "outputs": [
    {
     "name": "stdout",
     "output_type": "stream",
     "text": [
      "[(4, 1), (3, 2), (2, 3), (1, 2)]\n"
     ]
    }
   ],
   "source": [
    "grid = numpy.array([\n",
    "    [0,0,0,0,0],\n",
    "    [0,0,0,0,0],\n",
    "    [1,1,1,0,0],\n",
    "    [0,0,0,0,0],\n",
    "    [0,0,0,0,0]])\n",
    "print (Astar(grid, (1, 1), (4, 1)))"
   ]
  },
  {
   "cell_type": "code",
   "execution_count": null,
   "metadata": {},
   "outputs": [],
   "source": []
  }
 ],
 "metadata": {
  "kernelspec": {
   "display_name": "Python 3",
   "language": "python",
   "name": "python3"
  },
  "language_info": {
   "codemirror_mode": {
    "name": "ipython",
    "version": 3
   },
   "file_extension": ".py",
   "mimetype": "text/x-python",
   "name": "python",
   "nbconvert_exporter": "python",
   "pygments_lexer": "ipython3",
   "version": "3.7.6"
  }
 },
 "nbformat": 4,
 "nbformat_minor": 4
}
