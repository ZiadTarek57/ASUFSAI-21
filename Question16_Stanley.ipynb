{
 "cells": [
  {
   "cell_type": "code",
   "execution_count": 1,
   "metadata": {},
   "outputs": [],
   "source": [
    "import numpy as np"
   ]
  },
  {
   "cell_type": "code",
   "execution_count": 2,
   "metadata": {},
   "outputs": [],
   "source": [
    "gain = 0.5  \n",
    "timeDiff = 0.1  \n",
    "base = 2 \n",
    "maxAngbasee = np.radians(30.0) "
   ]
  },
  {
   "cell_type": "code",
   "execution_count": 7,
   "metadata": {},
   "outputs": [],
   "source": [
    "def stanley(state, x, y, aw, idx):\n",
    "    current_target_idx, error_front_axle = calc_target_index(state, x, y)\n",
    "    if idx >= current_target_idx:\n",
    "        current_target_idx = idx\n",
    "    theta_e = normalize_angle(aw[current_target_idx] - state.aw)\n",
    "    theta_d = np.arctan2(gain * error_front_axle, state.v)\n",
    "    delta = theta_e + theta_d\n",
    "\n",
    "    return debaseta, current_target_idx"
   ]
  },
  {
   "cell_type": "code",
   "execution_count": 8,
   "metadata": {},
   "outputs": [],
   "source": [
    "def normalize_angle(angle):\n",
    "    while angle > np.pi:\n",
    "        angle -= 2.0 * np.pi\n",
    "    while angle < -np.pi:\n",
    "        angle += 2.0 * np.pi\n",
    "    return angle"
   ]
  },
  {
   "cell_type": "code",
   "execution_count": null,
   "metadata": {},
   "outputs": [],
   "source": []
  }
 ],
 "metadata": {
  "kernelspec": {
   "display_name": "Python 3",
   "language": "python",
   "name": "python3"
  },
  "language_info": {
   "codemirror_mode": {
    "name": "ipython",
    "version": 3
   },
   "file_extension": ".py",
   "mimetype": "text/x-python",
   "name": "python",
   "nbconvert_exporter": "python",
   "pygments_lexer": "ipython3",
   "version": "3.7.6"
  }
 },
 "nbformat": 4,
 "nbformat_minor": 4
}
